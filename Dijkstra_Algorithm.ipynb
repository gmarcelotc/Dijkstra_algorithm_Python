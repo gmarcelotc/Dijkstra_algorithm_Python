{
 "cells": [
  {
   "cell_type": "markdown",
   "metadata": {},
   "source": [
    "# Algoritmos Dijkstra original y Dijkstra Dial en Python\n",
    "\n",
    "### Germán Treimun Costa.\n",
    "#### german.triemun@alumnos.usm.cl"
   ]
  },
  {
   "cell_type": "markdown",
   "metadata": {},
   "source": [
    "### Cargando Librerias"
   ]
  },
  {
   "cell_type": "code",
   "execution_count": 58,
   "metadata": {},
   "outputs": [],
   "source": [
    "#Se importan librerias, en este caso se utilizo numpy por temas de optimalidad\n",
    "import numpy as np\n",
    "import sys\n",
    "import time\n",
    "import matplotlib.pyplot as plt"
   ]
  },
  {
   "cell_type": "markdown",
   "metadata": {},
   "source": [
    "### Declarando clase grafo y sus métodos"
   ]
  },
  {
   "cell_type": "code",
   "execution_count": 51,
   "metadata": {},
   "outputs": [],
   "source": [
    "# Se declara la clase grafo para que sea más facil manejar los nodos y arcos\n",
    "class Graph(): \n",
    "  \n",
    "    def __init__(self, num_nodes): \n",
    "        self.num_nodes = num_nodes\n",
    "        self.adjacency_matrix = np.ones([num_nodes, num_nodes])*-1\n",
    "        \n",
    "    #Se utiliza una matriz de adyacencias mediante arreglos de numpy para representar el grafo, \n",
    "    #asi es posible hacer operaciones sobre esta y además utilizar las ventajas de busqueda de numpy\n",
    "    def fillGraphMatrix(self,edges):\n",
    "        for i in range(self.num_nodes):\n",
    "            edges_for_i_node = np.where(edges[:,0]==i+1)[0]\n",
    "            if(len(edges_for_i_node)>0):\n",
    "                for edge in edges_for_i_node:\n",
    "                    self.adjacency_matrix[i,edges[edge][1]-1] = edges[edge,2]\n",
    "            self.adjacency_matrix[i,i] = 0\n",
    "            \n",
    "    #Algoritmo dijkstra normal        \n",
    "    def dijkstra(self,source_node):\n",
    "        # Se guardan los costos asigndos desde un nodo fuente en un numpy array de dimensión Nx1\n",
    "        # se reemplazan los costos que no se conocen por infinito\n",
    "        costs = self.adjacency_matrix[source_node]\n",
    "        costs[costs == -1] = np.inf\n",
    "        costs = costs.reshape((self.num_nodes,1))\n",
    "        index_to_cost = np.arange(self.num_nodes, dtype=int).reshape((self.num_nodes,1))\n",
    "        index_from_source = np.full((self.num_nodes,1),source_node, dtype=int)\n",
    "        index_from_source = np.append(index_to_cost,index_from_source,axis=1)\n",
    "        costs = np.append(index_from_source,costs,axis=1)\n",
    "        # Se guarda el nodo con distancia 0, es decir, el nodo inicial en un numpy array de soluciones\n",
    "        # luego es eliminado del array de costos\n",
    "        dijkstra = [costs[source_node]]\n",
    "        costs = np.delete(costs,source_node,axis =0)\n",
    "        #Mientras existaan elementos en el vector de costos el algoritmo seguira ejecutandose\n",
    "        while(len(costs)>0):\n",
    "            #Se obtiene el indice del nodo con menor distancia al nodo actual, luego este nodo\n",
    "            # pasa a ser el nodo actual, porteriormente si resulta que los arcos de distancia del \n",
    "            # nodo actual corresponden todos s infinito se termina de ejecutar el algoritmo\n",
    "            min_node_index = np.argmin(costs[:,2])\n",
    "            current_node = costs[min_node_index]\n",
    "            if(np.min(current_node[2]) == np.inf):\n",
    "                break\n",
    "            # se guarda el nodo actual con su distancia y se elimina del array de costos\n",
    "            dijkstra = np.append(dijkstra,[costs[min_node_index]],axis =0)\n",
    "            costs = np.delete(costs,min_node_index,axis =0)\n",
    "            # Se revisan todos los vecinos del nodo actual, buscando sus costos de distancia\n",
    "            #  al nodo actual en la matriz de adyacencia\n",
    "            for i in range(len(costs)):\n",
    "                int_x = int(current_node[0])\n",
    "                int_y = int(costs[i][0])\n",
    "                current_node_to_i_cost = self.adjacency_matrix[int_x,int_y]\n",
    "                #Si el vecino, realmente es un vecino, es decir, no estoy buscando sobre otro nodo\n",
    "                # y además la distancia hacia el nodo actual, sumada al nodo fuente es menor a la que \n",
    "                # se conoce, entonces esta pasa a ser la nueva distancia minima\n",
    "                if(current_node_to_i_cost != -1 and current_node_to_i_cost !=0):\n",
    "                    temp_cost = current_node_to_i_cost + current_node[2]\n",
    "                    if(temp_cost < costs[i,2]):\n",
    "                        costs[i,1] =  current_node[0]\n",
    "                        costs[i,2] = temp_cost\n",
    "        return dijkstra\n",
    "    \n",
    "    # Algoritmo Dial Dijkstra\n",
    "    def dialDijkstra(self,source_node,w):\n",
    "        # Se genera una lista de buckets, en donde se tiene tantos buckets comoe el parámetro w\n",
    "        # luego esta lista se llena con listas vacias\n",
    "        buckets = []\n",
    "        for i in range(w):\n",
    "            buckets.append([])\n",
    "        #Se agrega el nodo fuente a la lista de buckets\n",
    "        buckets[0].append((source_node,source_node))\n",
    "        distance_to_src = 0 \n",
    "        bucket_counter = 0\n",
    "        #Lista donde guardar soluciones\n",
    "        solution = []\n",
    "        #Lista de nodos que se encuentran en bucket list\n",
    "        tabu_list = []\n",
    "        #El algoritmo funciona de la siguiente manera:\n",
    "        # - Reviso si el bucket actual, no este vacio\n",
    "        # - En caso de que el bucket este vacio, el contador aumenta, y me muevo al siguiente bucket\n",
    "        # - Cuando el bucket no esta vacio, entonces se obtiene el nodo \"de arriba\", es decir, el elemento 0\n",
    "        # - Se revisan los vecinos del nodo actual, en donde se actualizan las distancias y se mueven los nodos de bucket\n",
    "        # - se repite este proceso hasta pasar por todos los nodos.\n",
    "        while(bucket_counter < w and len(solution) < self.num_nodes ):\n",
    "            if(len(buckets[bucket_counter]) == 0):\n",
    "                bucket_counter+=1\n",
    "                continue\n",
    "            else:\n",
    "                current_node = buckets[bucket_counter][0]\n",
    "                #Obteniendo vecinos del nodo actual\n",
    "                for i in range(len(self.adjacency_matrix[current_node[0]])):\n",
    "                    neighbor = self.adjacency_matrix[current_node[0]][i]\n",
    "                    if(neighbor != 0 and neighbor != -1 and neighbor != np.inf and i not in solution):\n",
    "                        #En caso de que el vecino este en la lista tabu, es decir, ya se encuentra\n",
    "                        #en un bucket, entonces se verifica cual tiene menor distancia a source\n",
    "                        if(i in tabu_list):\n",
    "                            for j in range(bucket_counter,w):\n",
    "                                buckets_array = np.array(buckets[j])\n",
    "                                i_in_bucket = np.where(buckets_array == i)\n",
    "                                if(len(i_in_bucket[0])>0):\n",
    "                                    #print(i_in_bucket)\n",
    "                                    #position_in_bucket = int(i_in_bucket[0])\n",
    "                                    position_in_bucket = int(i_in_bucket[0][0])\n",
    "                                    temp_node = buckets[j][position_in_bucket]\n",
    "                                    #verificando cual distancia es menor\n",
    "                                    if(neighbor+bucket_counter < j):\n",
    "                                        buckets[int(neighbor)+bucket_counter].append((i,current_node[0]))\n",
    "                                        buckets[j].remove(temp_node)\n",
    "                        else:\n",
    "                            buckets[int(neighbor)+bucket_counter].append((i,current_node[0]))\n",
    "                            tabu_list.append(i)\n",
    "                #guardando el nodo actual con distancia a source en lista de soluciones\n",
    "                solution.append([current_node[0],current_node[1],bucket_counter])\n",
    "                buckets[bucket_counter].pop(0)        \n",
    "        return np.array(solution)                    "
   ]
  },
  {
   "cell_type": "markdown",
   "metadata": {},
   "source": [
    "### Algunas funciones necesarias"
   ]
  },
  {
   "cell_type": "code",
   "execution_count": 52,
   "metadata": {},
   "outputs": [],
   "source": [
    "#Se definen algnas funciones necesarias para lo que se pide en el programa\n",
    "\n",
    "#Funcion para cargar los arcos desde el archivo de texto dado\n",
    "#Se retorna un arreglo numpy\n",
    "def loadEdges(filename):\n",
    "    edges_list = []\n",
    "    edges_file = open(filename,'r')\n",
    "    for line in edges_file:\n",
    "        if(line != \"EOF\"):\n",
    "            temp_line = line.replace(\"\\n\",\"\")\n",
    "            begin,end,cost = temp_line.split(\" \")\n",
    "            edges_list.append([int(begin),int(end),int(cost)])\n",
    "    return np.array(edges_list)\n",
    "\n",
    "#Funcion para escribir los resultados encontrados por los algoritmos dijkstra\n",
    "def writeResults(graph,dijkstra_results,filename,src):\n",
    "    dijkstra_results[:,0] = dijkstra_results[:,0]+1\n",
    "    dijkstra_results[:,1] = dijkstra_results[:,1]+1\n",
    "    to_save = [] \n",
    "    for i in range(1,graph.num_nodes+1):\n",
    "        if(i not in dijkstra_results[:,0]):\n",
    "            to_save.append([i,0,-1])\n",
    "        else:\n",
    "            node = dijkstra_results[dijkstra_results[:,0]==i]\n",
    "            to_save.append([node[0,0],node[0,1],node[0,2]])\n",
    "    to_save = np.array(to_save)\n",
    "    header_str = str(src+1)\n",
    "    np.savetxt(filename,to_save,header= header_str , fmt=\"%.0f\")    "
   ]
  },
  {
   "cell_type": "markdown",
   "metadata": {},
   "source": [
    "### Experimentos"
   ]
  },
  {
   "cell_type": "code",
   "execution_count": 53,
   "metadata": {},
   "outputs": [],
   "source": [
    "path = \"instances/\"\n",
    "\n",
    "#filenames = [\"6\",\"30_densa\",\"30_rala\",\"250\",\"6600\",\"53000\",\"211212\"]\n",
    "filenames = [\"6\",\"30_densa\",\"30_rala\",\"250\"]\n",
    "\n",
    "data = []\n",
    "\n",
    "for file in filenames:\n",
    "    tem_nodes_file = open(path+\"nodos_\"+file+\".txt\",'r')\n",
    "    temp_number_nodes = int(tem_nodes_file.readlines()[0])\n",
    "    temp_edges = loadEdges(path+\"arcos_\"+file+\".txt\")\n",
    "    data.append([temp_number_nodes,temp_edges])\n",
    "    "
   ]
  },
  {
   "cell_type": "code",
   "execution_count": 54,
   "metadata": {},
   "outputs": [],
   "source": [
    "graph_list = []\n",
    "for element in data:\n",
    "    temp_graph = Graph(element[0])\n",
    "    temp_graph.fillGraphMatrix(element[1])\n",
    "    graph_list.append(temp_graph)"
   ]
  },
  {
   "cell_type": "code",
   "execution_count": 56,
   "metadata": {},
   "outputs": [],
   "source": [
    "times = []\n",
    "\n",
    "start_normal = time.time()\n",
    "normal_dijkstra = graph_list[0].dijkstra(0)\n",
    "end_normal = time.time()\n",
    "w = np.max(data[1][1][:,2])+16\n",
    "start_dial = time.time()\n",
    "dial_dijkstra = graph_list[0].dialDijkstra(0,w)\n",
    "end_dial = time.time()\n",
    "times.append([end_normal-start_normal,end_dial-start_dial])\n",
    "\n",
    "\n",
    "start_normal = time.time()\n",
    "normal_dijkstra = graph_list[1].dijkstra(0)\n",
    "end_normal = time.time()\n",
    "w = np.max(data[1][1][:,2])+40\n",
    "start_dial = time.time()\n",
    "dial_dijkstra = graph_list[1].dialDijkstra(0,w)\n",
    "end_dial = time.time()\n",
    "times.append([end_normal-start_normal,end_dial-start_dial])\n",
    "\n",
    "\n",
    "start_normal = time.time()\n",
    "normal_dijkstra = graph_list[2].dijkstra(0)\n",
    "end_normal = time.time()\n",
    "w = np.max(data[1][1][:,2])+70\n",
    "start_dial = time.time()\n",
    "dial_dijkstra = graph_list[2].dialDijkstra(0,w)\n",
    "end_dial = time.time()\n",
    "times.append([end_normal-start_normal,end_dial-start_dial])\n",
    "\n",
    "\n",
    "start_normal = time.time()\n",
    "normal_dijkstra = graph_list[3].dijkstra(0)\n",
    "end_normal = time.time()\n",
    "w = np.max(data[1][1][:,2])+100\n",
    "start_dial = time.time()\n",
    "dial_dijkstra = graph_list[3].dialDijkstra(0,w)\n",
    "end_dial = time.time()\n",
    "times.append([end_normal-start_normal,end_dial-start_dial])"
   ]
  },
  {
   "cell_type": "code",
   "execution_count": 73,
   "metadata": {},
   "outputs": [],
   "source": [
    "def plot(times):\n",
    "    x_axis = [\"60\",\"30 dense\",\"30 rala\", \"250\"]\n",
    "    \n",
    "    t = np.array(times)\n",
    "    y1 = t[:,0]\n",
    "    y2 = t[:,1]\n",
    "    \n",
    "    fig = plt.figure(figsize=(15, 12))\n",
    "\n",
    "    plt.grid()\n",
    "    plt.title(\"Time vs Instance\", fontsize=20)\n",
    "    plt.xlabel('Instance', fontsize=18)        \n",
    "    plt.ylabel('Times', fontsize=18)\n",
    "    plt.plot(x_axis,y1,label=\"Dijkstra original\",color=\"b\", marker=\"o\",linestyle=\"--\")\n",
    "    plt.plot(x_axis,y2,label=\"Dijkstra Dial\",color=\"r\", marker=\"o\",linestyle=\"-\")\n",
    "    plt.legend(fontsize=18)\n",
    "    plt.show()"
   ]
  },
  {
   "cell_type": "markdown",
   "metadata": {},
   "source": [
    "### Resultados\n",
    "\n",
    "Es necesario nombrar algunas consideraciones, primero que todo con instancias de mayor tamaño la memoria del computador colapso, motivo por lo cual en el grafico se presentan solo 4 instancias, quizás sería mejor opción correr los experimentos enu un servidor o google cloud que por motivos de tiempo no pudo realizarse. Por otro lado si bien varios resultados de los algoritmos de dijkstra fueron iguales a los entregados, hubieron otros bastante distintos para algunos nodos fuente, observando algunos archivos de salida entregados resulta curioso que en alguno de ellos se presenten nodos del tipo (nodo 0 -1) cuando en el archivo de arcos hay conexiones para ese nodo. Otro caso que también podría ser probable es algun error en la implementación que hace que se generen resultados distintos."
   ]
  },
  {
   "cell_type": "code",
   "execution_count": 74,
   "metadata": {},
   "outputs": [
    {
     "data": {
      "image/png": "[encoded data removed]",
      "text/plain": [
       "<Figure size 1080x864 with 1 Axes>"
      ]
     },
     "metadata": {},
     "output_type": "display_data"
    }
   ],
   "source": [
    "plot(times)"
   ]
  },
  {
   "cell_type": "markdown",
   "metadata": {},
   "source": [
    "### Conclusiones\n",
    "\n",
    "\n",
    "Lo esperado al comparar los tiempos de ambos algoritmos es que en el caso de Dijkstra Dial, este sea más rapido que ya que posee una complejidad algoritmica inferior en el peor de los casos, pero tal como se indica también en el enunciado, es en el peor de los casos y no en caso promedio para todas las instancias, las cuales pueden afectar sin duda el desempeño del algoritmo. Además la complejidad del algoritmo Dial viene dada por el parámetro $w$ (max distancia entre nodos $\\cdot$ cant de nodos), el cual cuando crece mucho deja de ser tan bueno, lo que quiere decir que este algoritmo debería ser bueno con valores pequeños de $w$. Otro aspecto interesante a mencionar es que dado el algoritmo de dijkstra original, es facil aplicarlo a la matriz de adyacencia mediante operaciones mayoritariamente de la librería numpy, la cual se caracteriza por ser bastante optima además de almacenar sus arreglos en memoria contigua. Por otro lado si bien con Dial se trabajo con numpy, no al nivel que se hizo con Dijkstra original."
   ]
  },
  {
   "cell_type": "code",
   "execution_count": null,
   "metadata": {},
   "outputs": [],
   "source": []
  }
 ],
 "metadata": {
  "kernelspec": {
   "display_name": "Python 3",
   "language": "python",
   "name": "python3"
  },
  "language_info": {
   "codemirror_mode": {
    "name": "ipython",
    "version": 3
   },
   "file_extension": ".py",
   "mimetype": "text/x-python",
   "name": "python",
   "nbconvert_exporter": "python",
   "pygments_lexer": "ipython3",
   "version": "3.6.5"
  }
 },
 "nbformat": 4,
 "nbformat_minor": 2
}
