{
 "cells": [
  {
   "cell_type": "code",
   "execution_count": 1,
   "metadata": {},
   "outputs": [],
   "source": [
    "import numpy as np"
   ]
  },
  {
   "cell_type": "code",
   "execution_count": 2,
   "metadata": {},
   "outputs": [],
   "source": [
    "def loadEdges(filename):\n",
    "    edges_list = []\n",
    "    edges_file = open(filename,'r')\n",
    "    for line in edges_file:\n",
    "        if(line != \"EOF\"):\n",
    "            temp_line = line.replace(\"\\n\",\"\")\n",
    "            begin,end,cost = temp_line.split(\" \")\n",
    "            edges_list.append([int(begin),int(end),int(cost)])\n",
    "    return np.array(edges_list)"
   ]
  },
  {
   "cell_type": "code",
   "execution_count": 152,
   "metadata": {},
   "outputs": [],
   "source": [
    "class Graph(): \n",
    "  \n",
    "    def __init__(self, num_nodes): \n",
    "        self.num_nodes = num_nodes\n",
    "        self.adjacency_matrix = np.ones([num_nodes, num_nodes])*-1\n",
    "        \n",
    "    def fillGraph(self,edges):\n",
    "        for i in range(self.num_nodes):\n",
    "            edges_for_i_node = np.where(edges[:,0]==i+1)[0]\n",
    "            if(len(edges_for_i_node)>0):\n",
    "                for edge in edges_for_i_node:\n",
    "                    self.adjacency_matrix[i,edges[edge][1]-1] = edges[edge,2]\n",
    "            self.adjacency_matrix[i,i] = 0\n",
    "            \n",
    "    def dijkstra(self,source_node):\n",
    "        # Se guardan los costos asigndos desde un nodo fuente en un numpy array de dimensión Nx1\n",
    "        costs = self.adjacency_matrix[source_node]\n",
    "        costs[costs == -1] = np.inf\n",
    "        costs = costs.reshape((self.num_nodes,1))\n",
    "        index_to_cost = np.arange(self.num_nodes, dtype=int).reshape((self.num_nodes,1))\n",
    "        index_from_source = np.full((self.num_nodes,1),source_node, dtype=int)\n",
    "        index_from_source = np.append(index_to_cost,index_from_source,axis=1)\n",
    "        costs = np.append(index_from_source,costs,axis=1)\n",
    "        # Se guarda el nodo con distancia 0, es decir, el nodo inicial en un numpy array de soluciones\n",
    "        # luego es eliminado del array de costos\n",
    "        dijkstra = [costs[source_node]]\n",
    "        costs = np.delete(costs,source_node,axis =0)\n",
    "        while(len(costs)>0):\n",
    "            min_node_index = np.argmin(costs[:,2])\n",
    "            current_node = costs[min_node_index]\n",
    "            if(np.min(current_node[2]) == np.inf):\n",
    "                break\n",
    "            dijkstra = np.append(dijkstra,[costs[min_node_index]],axis =0)\n",
    "            costs = np.delete(costs,min_node_index,axis =0)\n",
    "            for i in range(len(costs)):\n",
    "                int_x = int(current_node[0])\n",
    "                int_y = int(costs[i][0])\n",
    "                current_node_to_i_cost = self.adjacency_matrix[int_x,int_y]\n",
    "                if(current_node_to_i_cost != -1 and current_node_to_i_cost !=0):\n",
    "                    temp_cost = current_node_to_i_cost + current_node[2]\n",
    "                    if(temp_cost < costs[i,2]):\n",
    "                        costs[i,1] =  current_node[0]\n",
    "                        costs[i,2] = temp_cost\n",
    "        return dijkstra\n",
    "    \n",
    "    def dialDijkstra(self,source_node,w):\n",
    "        \n",
    "        \n",
    "            \n",
    "            \n",
    "                \n",
    "                    "
   ]
  },
  {
   "cell_type": "code",
   "execution_count": 153,
   "metadata": {},
   "outputs": [],
   "source": [
    "nodes_file = open('nodos.txt','r')\n",
    "number_nodes = int(nodes_file.readlines()[0])\n",
    "edges = loadEdges('arcos.txt')"
   ]
  },
  {
   "cell_type": "code",
   "execution_count": 154,
   "metadata": {},
   "outputs": [],
   "source": [
    "g = Graph(number_nodes)\n",
    "g.fillGraph(edges)"
   ]
  },
  {
   "cell_type": "code",
   "execution_count": 155,
   "metadata": {},
   "outputs": [
    {
     "data": {
      "text/plain": [
       "array([[ 0.,  2.,  4., -1., -1., -1.],\n",
       "       [-1.,  0.,  1.,  4.,  2., -1.],\n",
       "       [-1., -1.,  0., -1.,  3., -1.],\n",
       "       [-1., -1., -1.,  0., -1.,  2.],\n",
       "       [-1., -1., -1.,  3.,  0.,  2.],\n",
       "       [-1., -1., -1., -1., -1.,  0.]])"
      ]
     },
     "execution_count": 155,
     "metadata": {},
     "output_type": "execute_result"
    }
   ],
   "source": [
    "g.adjacency_matrix"
   ]
  },
  {
   "cell_type": "code",
   "execution_count": 161,
   "metadata": {},
   "outputs": [
    {
     "data": {
      "text/plain": [
       "array([[1., 1., 0.],\n",
       "       [2., 1., 1.],\n",
       "       [4., 1., 2.],\n",
       "       [3., 1., 4.],\n",
       "       [5., 4., 4.]])"
      ]
     },
     "execution_count": 161,
     "metadata": {},
     "output_type": "execute_result"
    }
   ],
   "source": [
    "g.dijkstra(1)"
   ]
  },
  {
   "cell_type": "code",
   "execution_count": 150,
   "metadata": {},
   "outputs": [
    {
     "data": {
      "text/plain": [
       "array([[0., 0.],\n",
       "       [0., 0.]])"
      ]
     },
     "execution_count": 150,
     "metadata": {},
     "output_type": "execute_result"
    }
   ],
   "source": [
    "np.zeros([2,2])"
   ]
  },
  {
   "cell_type": "code",
   "execution_count": null,
   "metadata": {},
   "outputs": [],
   "source": [
    "edges"
   ]
  },
  {
   "cell_type": "code",
   "execution_count": null,
   "metadata": {},
   "outputs": [],
   "source": [
    "np.min([345,87])"
   ]
  },
  {
   "cell_type": "code",
   "execution_count": null,
   "metadata": {},
   "outputs": [],
   "source": [
    "asd1 = np.full((6,1),5)\n",
    "asd1.shape"
   ]
  },
  {
   "cell_type": "code",
   "execution_count": null,
   "metadata": {},
   "outputs": [],
   "source": [
    "asd2 = g.adjacency_matrix[0].reshape((6,1))\n",
    "asd2.shape"
   ]
  },
  {
   "cell_type": "code",
   "execution_count": null,
   "metadata": {},
   "outputs": [],
   "source": [
    "np.append(asd1,asd2,axis=1)"
   ]
  },
  {
   "cell_type": "code",
   "execution_count": null,
   "metadata": {},
   "outputs": [],
   "source": [
    "costs_a = np.array([[0,1,2],[0,4,5]])"
   ]
  },
  {
   "cell_type": "code",
   "execution_count": null,
   "metadata": {},
   "outputs": [],
   "source": [
    "costs_a[1,2]"
   ]
  },
  {
   "cell_type": "code",
   "execution_count": null,
   "metadata": {},
   "outputs": [],
   "source": []
  }
 ],
 "metadata": {
  "kernelspec": {
   "display_name": "Python 3",
   "language": "python",
   "name": "python3"
  },
  "language_info": {
   "codemirror_mode": {
    "name": "ipython",
    "version": 3
   },
   "file_extension": ".py",
   "mimetype": "text/x-python",
   "name": "python",
   "nbconvert_exporter": "python",
   "pygments_lexer": "ipython3",
   "version": "3.6.5"
  }
 },
 "nbformat": 4,
 "nbformat_minor": 2
}
